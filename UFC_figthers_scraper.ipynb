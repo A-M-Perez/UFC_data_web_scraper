{
 "cells": [
  {
   "attachments": {},
   "cell_type": "markdown",
   "metadata": {},
   "source": [
    "### Import libraries"
   ]
  },
  {
   "cell_type": "code",
   "execution_count": 1,
   "metadata": {},
   "outputs": [],
   "source": [
    "import urllib.request, urllib.parse, urllib.error\n",
    "from bs4 import BeautifulSoup\n",
    "import ssl\n",
    "import csv\n",
    "import re\n",
    "from time import sleep\n",
    "\n",
    "# Ignore certification validation\n",
    "ctx = ssl.create_default_context()\n",
    "ctx.check_hostname = False\n",
    "ctx.verify_mode = ssl.CERT_NONE"
   ]
  },
  {
   "cell_type": "code",
   "execution_count": null,
   "metadata": {},
   "outputs": [],
   "source": [
    "# # Create and set the structure of the file to be exported with scraped data\n",
    "# file = open('Real_estate_ARG.csv', 'w', newline='')\n",
    "# writer = csv.writer(file)\n",
    "# writer.writerow(['Property_Type', 'Location', 'Price', 'Price_Currency', 'Total_Area_m2', 'Covered_Area_m2', 'Room_number', 'Bathroom_number', 'Expenses', 'Expenses_Currency'])"
   ]
  },
  {
   "cell_type": "code",
   "execution_count": 2,
   "metadata": {},
   "outputs": [],
   "source": [
    "# Set HTML parser\n",
    "url = 'http://www.ufcstats.com/statistics/fighters?char=a&page=all'\n",
    "html = urllib.request.urlopen(url, context=ctx).read()\n",
    "soup = BeautifulSoup(html, 'html.parser')"
   ]
  },
  {
   "cell_type": "code",
   "execution_count": null,
   "metadata": {},
   "outputs": [],
   "source": [
    "row = soup.find_all('tr', class_='b-statistics__table-row')\n"
   ]
  },
  {
   "cell_type": "code",
   "execution_count": null,
   "metadata": {},
   "outputs": [],
   "source": [
    "# ufc_stats_main_url = 'http://www.ufcstats.com/statistics/events/completed?page=all'\n",
    "\n",
    "\n",
    "# row_class = 'b-statistics__table-row'\n",
    "\n",
    "# ul = 'b-list__box-list b-list__box-list_margin-top'\n",
    "# li = 'b-list__box-item-title b-list__box-item-title_font_lowercase b-list__box-item-title_type_width'"
   ]
  },
  {
   "cell_type": "code",
   "execution_count": null,
   "metadata": {},
   "outputs": [],
   "source": []
  }
 ],
 "metadata": {
  "kernelspec": {
   "display_name": "Python 3",
   "language": "python",
   "name": "python3"
  },
  "language_info": {
   "codemirror_mode": {
    "name": "ipython",
    "version": 3
   },
   "file_extension": ".py",
   "mimetype": "text/x-python",
   "name": "python",
   "nbconvert_exporter": "python",
   "pygments_lexer": "ipython3",
   "version": "3.10.2"
  },
  "orig_nbformat": 4,
  "vscode": {
   "interpreter": {
    "hash": "8dfb18b20b1c5be31ebdb32c9f5f048ff20716d499c9b4ee56ead56f42de095d"
   }
  }
 },
 "nbformat": 4,
 "nbformat_minor": 2
}
